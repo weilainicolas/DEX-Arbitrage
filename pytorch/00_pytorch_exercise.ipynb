{
  "nbformat": 4,
  "nbformat_minor": 0,
  "metadata": {
    "colab": {
      "provenance": [],
      "gpuType": "T4",
      "authorship_tag": "ABX9TyMq7pcQSWrJE2bGQuz/VXNU",
      "include_colab_link": true
    },
    "kernelspec": {
      "name": "python3",
      "display_name": "Python 3"
    },
    "language_info": {
      "name": "python"
    },
    "accelerator": "GPU"
  },
  "cells": [
    {
      "cell_type": "markdown",
      "metadata": {
        "id": "view-in-github",
        "colab_type": "text"
      },
      "source": [
        "<a href=\"https://colab.research.google.com/github/weilainicolas/DEX-Arbitrage/blob/main/pytorch/00_pytorch_exercise.ipynb\" target=\"_parent\"><img src=\"https://colab.research.google.com/assets/colab-badge.svg\" alt=\"Open In Colab\"/></a>"
      ]
    },
    {
      "cell_type": "code",
      "execution_count": 1,
      "metadata": {
        "id": "FEoKEUg3qKx0"
      },
      "outputs": [],
      "source": [
        "import torch"
      ]
    },
    {
      "cell_type": "code",
      "source": [
        "#2. Create a random tensor with shape (7, 7).\n",
        "rand=torch.rand(7,7)\n",
        "rand"
      ],
      "metadata": {
        "colab": {
          "base_uri": "https://localhost:8080/"
        },
        "id": "Ioooi5CtqSZi",
        "outputId": "124187cb-6f32-4c05-d505-d3ac082e8041"
      },
      "execution_count": 2,
      "outputs": [
        {
          "output_type": "execute_result",
          "data": {
            "text/plain": [
              "tensor([[0.5792, 0.8412, 0.3031, 0.0437, 0.2285, 0.9577, 0.9342],\n",
              "        [0.0778, 0.8545, 0.1215, 0.8301, 0.7980, 0.9606, 0.4911],\n",
              "        [0.3700, 0.7959, 0.4724, 0.6298, 0.0831, 0.9201, 0.6986],\n",
              "        [0.6259, 0.5021, 0.0198, 0.2698, 0.6569, 0.7723, 0.0069],\n",
              "        [0.2009, 0.5420, 0.0769, 0.0963, 0.1098, 0.0328, 0.7262],\n",
              "        [0.2035, 0.4991, 0.0524, 0.0128, 0.7962, 0.9415, 0.4598],\n",
              "        [0.3882, 0.3583, 0.9407, 0.3449, 0.3257, 0.9803, 0.7322]])"
            ]
          },
          "metadata": {},
          "execution_count": 2
        }
      ]
    },
    {
      "cell_type": "markdown",
      "source": [
        "3. Perform a matrix multiplication on the tensor from 2 with another random tensor with shape (1, 7) (hint: you may have to transpose the second tensor).\n"
      ],
      "metadata": {
        "id": "PWnV98HAqePn"
      }
    },
    {
      "cell_type": "code",
      "source": [
        "tensor_1=torch.rand(1,7)"
      ],
      "metadata": {
        "id": "4a3NXWTGqo4D"
      },
      "execution_count": 3,
      "outputs": []
    },
    {
      "cell_type": "code",
      "source": [
        "rand @ tensor_1.T"
      ],
      "metadata": {
        "colab": {
          "base_uri": "https://localhost:8080/"
        },
        "id": "uyXGBSiTqxMw",
        "outputId": "5d76891f-3693-4c36-8afa-1b592f7c6e45"
      },
      "execution_count": 7,
      "outputs": [
        {
          "output_type": "execute_result",
          "data": {
            "text/plain": [
              "tensor([[2.2518],\n",
              "        [2.2577],\n",
              "        [2.4161],\n",
              "        [1.4427],\n",
              "        [1.1693],\n",
              "        [1.4627],\n",
              "        [2.5622]])"
            ]
          },
          "metadata": {},
          "execution_count": 7
        }
      ]
    },
    {
      "cell_type": "markdown",
      "source": [
        "4. Set the random seed to 0 and do 2 & 3 over again."
      ],
      "metadata": {
        "id": "d5MP_UQtqz5L"
      }
    },
    {
      "cell_type": "code",
      "source": [
        "seed=0\n",
        "torch.manual_seed(0)\n",
        "tensor_1=torch.rand(7,7)\n",
        "tensor_2=torch.rand(1,7)\n",
        "print(tensor_1)\n",
        "print(tensor_2)\n",
        "print(tensor_1 @ tensor_2.T)"
      ],
      "metadata": {
        "colab": {
          "base_uri": "https://localhost:8080/"
        },
        "id": "2e4g58nWrbd8",
        "outputId": "9b9cd47b-e064-482d-d15a-cfc8078ddcb8"
      },
      "execution_count": 13,
      "outputs": [
        {
          "output_type": "stream",
          "name": "stdout",
          "text": [
            "tensor([[0.4963, 0.7682, 0.0885, 0.1320, 0.3074, 0.6341, 0.4901],\n",
            "        [0.8964, 0.4556, 0.6323, 0.3489, 0.4017, 0.0223, 0.1689],\n",
            "        [0.2939, 0.5185, 0.6977, 0.8000, 0.1610, 0.2823, 0.6816],\n",
            "        [0.9152, 0.3971, 0.8742, 0.4194, 0.5529, 0.9527, 0.0362],\n",
            "        [0.1852, 0.3734, 0.3051, 0.9320, 0.1759, 0.2698, 0.1507],\n",
            "        [0.0317, 0.2081, 0.9298, 0.7231, 0.7423, 0.5263, 0.2437],\n",
            "        [0.5846, 0.0332, 0.1387, 0.2422, 0.8155, 0.7932, 0.2783]])\n",
            "tensor([[0.4820, 0.8198, 0.9971, 0.6984, 0.5675, 0.8352, 0.2056]])\n",
            "tensor([[1.8542],\n",
            "        [1.9611],\n",
            "        [2.2884],\n",
            "        [3.0481],\n",
            "        [1.7067],\n",
            "        [2.5290],\n",
            "        [1.7989]])\n"
          ]
        }
      ]
    },
    {
      "cell_type": "markdown",
      "source": [
        "5. Speaking of random seeds, we saw how to set it with torch.manual_seed() but is there a GPU equivalent? (hint: you'll need to look into the documentation for torch.cuda for this one)"
      ],
      "metadata": {
        "id": "R9dGOiUHr05Q"
      }
    },
    {
      "cell_type": "code",
      "source": [
        "# Set random seed on the GPU\n",
        "torch.cuda.manual_seed(1234)"
      ],
      "metadata": {
        "id": "cDknzSMvs58O"
      },
      "execution_count": 3,
      "outputs": []
    },
    {
      "cell_type": "markdown",
      "source": [
        "6. Create two random tensors of shape (2, 3) and send them both to the GPU (you'll need access to a GPU for this). Set torch.manual_seed(1234) when creating the tensors (this doesn't have to be the GPU random seed). The output should be something like:\n"
      ],
      "metadata": {
        "id": "g83OfwGvlI1f"
      }
    },
    {
      "cell_type": "code",
      "source": [
        "torch.manual_seed(1234)\n",
        "x_1=torch.rand(2,3)\n",
        "x_2=torch.rand(2,3)\n",
        "x_g_1=x_1.to('cuda')\n",
        "x_g_2=x_2.to('cuda')"
      ],
      "metadata": {
        "id": "KUzCs3oalRgK"
      },
      "execution_count": 3,
      "outputs": []
    },
    {
      "cell_type": "code",
      "source": [
        "print(x_g_1)\n",
        "print(x_g_2)"
      ],
      "metadata": {
        "colab": {
          "base_uri": "https://localhost:8080/"
        },
        "id": "86B2_bAPl32y",
        "outputId": "9a3d52db-bd9d-483c-dacc-8e223e6b2742"
      },
      "execution_count": 4,
      "outputs": [
        {
          "output_type": "stream",
          "name": "stdout",
          "text": [
            "tensor([[0.0290, 0.4019, 0.2598],\n",
            "        [0.3666, 0.0583, 0.7006]], device='cuda:0')\n",
            "tensor([[0.0518, 0.4681, 0.6738],\n",
            "        [0.3315, 0.7837, 0.5631]], device='cuda:0')\n"
          ]
        }
      ]
    },
    {
      "cell_type": "code",
      "source": [
        "result=x_g_1 @ x_g_2.T"
      ],
      "metadata": {
        "id": "Cg9I_NGvl9vt"
      },
      "execution_count": 6,
      "outputs": []
    },
    {
      "cell_type": "markdown",
      "source": [
        "8. Find the maximum and minimum values of the output of 7."
      ],
      "metadata": {
        "id": "yB37RISzmO17"
      }
    },
    {
      "cell_type": "code",
      "source": [
        "print(result.max())\n",
        "print(result.min())\n"
      ],
      "metadata": {
        "colab": {
          "base_uri": "https://localhost:8080/"
        },
        "id": "FbRwmHtpmT8P",
        "outputId": "2b394ae6-6b4f-4871-ec56-f80af1e88890"
      },
      "execution_count": 9,
      "outputs": [
        {
          "output_type": "stream",
          "name": "stdout",
          "text": [
            "tensor(0.5617, device='cuda:0')\n",
            "tensor(0.3647, device='cuda:0')\n"
          ]
        }
      ]
    },
    {
      "cell_type": "markdown",
      "source": [
        "9. Find the maximum and minimum index values of the output of 7."
      ],
      "metadata": {
        "id": "Ive8m9gmmaLy"
      }
    },
    {
      "cell_type": "code",
      "source": [
        "print(torch.argmax(result))\n",
        "print(torch.argmin(result))"
      ],
      "metadata": {
        "colab": {
          "base_uri": "https://localhost:8080/"
        },
        "id": "4dLVwTGOmoHc",
        "outputId": "8d192976-593a-486a-bf76-9c4859e5d9cf"
      },
      "execution_count": 10,
      "outputs": [
        {
          "output_type": "stream",
          "name": "stdout",
          "text": [
            "tensor(3, device='cuda:0')\n",
            "tensor(0, device='cuda:0')\n"
          ]
        }
      ]
    },
    {
      "cell_type": "markdown",
      "source": [
        "10. Make a random tensor with shape (1, 1, 1, 10) and then create a new tensor with all the 1 dimensions removed to be left with a tensor of shape (10). Set the seed to 7 when you create it and print out the first tensor and it's shape as well as the second tensor and it's shape."
      ],
      "metadata": {
        "id": "TzG5dpkLmvMe"
      }
    },
    {
      "cell_type": "code",
      "source": [
        "torch.manual_seed(7)\n",
        "tensor=torch.rand(1,1,1,10)\n",
        "tensor_squeeze=tensor.squeeze()\n",
        "print(tensor, tensor.shape)\n",
        "print(tensor_squeeze,tensor_squeeze.shape)"
      ],
      "metadata": {
        "colab": {
          "base_uri": "https://localhost:8080/"
        },
        "id": "fqpx3gaOnbCv",
        "outputId": "edd90904-951c-449d-bb5a-8a832875bda8"
      },
      "execution_count": 15,
      "outputs": [
        {
          "output_type": "stream",
          "name": "stdout",
          "text": [
            "tensor([[[[0.5349, 0.1988, 0.6592, 0.6569, 0.2328, 0.4251, 0.2071, 0.6297,\n",
            "           0.3653, 0.8513]]]]) torch.Size([1, 1, 1, 10])\n",
            "tensor([0.5349, 0.1988, 0.6592, 0.6569, 0.2328, 0.4251, 0.2071, 0.6297, 0.3653,\n",
            "        0.8513]) torch.Size([10])\n"
          ]
        }
      ]
    },
    {
      "cell_type": "code",
      "source": [
        "tensor.shape"
      ],
      "metadata": {
        "colab": {
          "base_uri": "https://localhost:8080/"
        },
        "id": "81V5xMG_nfya",
        "outputId": "f3e499a1-6dfe-40c6-e272-55e30efb4dff"
      },
      "execution_count": 13,
      "outputs": [
        {
          "output_type": "execute_result",
          "data": {
            "text/plain": [
              "torch.Size([1, 1, 1, 10])"
            ]
          },
          "metadata": {},
          "execution_count": 13
        }
      ]
    },
    {
      "cell_type": "code",
      "source": [],
      "metadata": {
        "id": "BdacXKhhngws"
      },
      "execution_count": null,
      "outputs": []
    }
  ]
}